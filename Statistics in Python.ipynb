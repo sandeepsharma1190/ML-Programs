{
 "cells": [
  {
   "cell_type": "markdown",
   "metadata": {},
   "source": [
    "## Name : - Sandeep Sharma"
   ]
  },
  {
   "cell_type": "markdown",
   "metadata": {},
   "source": [
    "#### Statistics in Python"
   ]
  },
  {
   "cell_type": "markdown",
   "metadata": {},
   "source": [
    "#### 9/30/2020"
   ]
  },
  {
   "cell_type": "markdown",
   "metadata": {},
   "source": [
    "### Hypothesis : - \n",
    "    \n",
    "A statistical hypothesis is an assumption made about a population parameter. This assumption may or may not be right.\n",
    "\n",
    "Null Hypothesis : - Study, which exists\n",
    "Alternate Hypothesis : - Study, which can replace already existed Hypothesis.\n",
    "\n",
    "Significance level of P can determine whether Alternate hypothesis will takes place or not\n",
    "\n",
    "We have many statistical hypothesis tests available in Python, which can be accessed through Scipy in Python. By importing scipy.stats to be more granular."
   ]
  },
  {
   "cell_type": "code",
   "execution_count": 1,
   "metadata": {},
   "outputs": [],
   "source": [
    "from scipy import stats"
   ]
  },
  {
   "cell_type": "code",
   "execution_count": 2,
   "metadata": {},
   "outputs": [],
   "source": [
    "data1 = [1,2,3,4,5,6,7,8]\n",
    "data2 = [4,5,6,7,8,9,1,2]\n",
    "data3 = [8,9,1,2,3,4,5,6]"
   ]
  },
  {
   "cell_type": "code",
   "execution_count": 3,
   "metadata": {},
   "outputs": [
    {
     "name": "stdout",
     "output_type": "stream",
     "text": [
      "stat = 1.70, p = 0.43\n"
     ]
    },
    {
     "name": "stderr",
     "output_type": "stream",
     "text": [
      "C:\\Users\\sshar127\\Anaconda3\\lib\\site-packages\\scipy\\stats\\stats.py:1534: UserWarning: kurtosistest only valid for n>=20 ... continuing anyway, n=8\n",
      "  warnings.warn(\"kurtosistest only valid for n>=20 ... continuing \"\n"
     ]
    }
   ],
   "source": [
    "# Normality Test\n",
    "stat, p = stats.normaltest(data1)\n",
    "print('stat = %.2f, p = %.2f' % (stat, p))"
   ]
  },
  {
   "cell_type": "code",
   "execution_count": 4,
   "metadata": {},
   "outputs": [
    {
     "name": "stdout",
     "output_type": "stream",
     "text": [
      "stat = -0.25, p = 0.55\n"
     ]
    }
   ],
   "source": [
    "# Pearson’s Correlation\n",
    "stat, p = stats.pearsonr(data1, data2)\n",
    "print('stat = %.2f, p = %.2f' % (stat, p))"
   ]
  },
  {
   "cell_type": "code",
   "execution_count": 5,
   "metadata": {},
   "outputs": [
    {
     "name": "stdout",
     "output_type": "stream",
     "text": [
      "stat = -0.14, p = 0.74\n"
     ]
    }
   ],
   "source": [
    "# Spearman’s Rank Correlation\n",
    "stat, p = stats.spearmanr(data1, data2)\n",
    "print('stat = %.2f, p = %.2f' % (stat, p))"
   ]
  },
  {
   "cell_type": "code",
   "execution_count": 6,
   "metadata": {},
   "outputs": [
    {
     "name": "stdout",
     "output_type": "stream",
     "text": [
      "stat = 0.14, p = 0.72\n"
     ]
    },
    {
     "name": "stderr",
     "output_type": "stream",
     "text": [
      "C:\\Users\\sshar127\\Anaconda3\\lib\\site-packages\\scipy\\stats\\stats.py:4084: UserWarning: \"initial_lexsort\" is gone!\n",
      "  warnings.warn('\"initial_lexsort\" is gone!')\n"
     ]
    }
   ],
   "source": [
    "# Kendall’s Rank Correlation\n",
    "stat, p = stats.kendalltau(data1, data2, data3)\n",
    "print('stat = %.2f, p = %.2f' % (stat, p))"
   ]
  },
  {
   "cell_type": "code",
   "execution_count": 7,
   "metadata": {},
   "outputs": [
    {
     "name": "stdout",
     "output_type": "stream",
     "text": [
      "stat = -0.57, p = 0.58\n"
     ]
    }
   ],
   "source": [
    "# T-Test\n",
    "# means of two independent samples\n",
    "stat, p = stats.ttest_ind(data1, data2)\n",
    "print('stat = %.2f, p = %.2f' % (stat, p))"
   ]
  },
  {
   "cell_type": "code",
   "execution_count": 8,
   "metadata": {},
   "outputs": [
    {
     "name": "stdout",
     "output_type": "stream",
     "text": [
      "stat = -0.51, p = 0.63\n"
     ]
    }
   ],
   "source": [
    "# T-Test\n",
    "# means of two paired samples\n",
    "stat, p = stats.ttest_rel(data1, data2)\n",
    "print('stat = %.2f, p = %.2f' % (stat, p))"
   ]
  },
  {
   "cell_type": "code",
   "execution_count": 9,
   "metadata": {},
   "outputs": [
    {
     "name": "stdout",
     "output_type": "stream",
     "text": [
      "stat = 0.32, p = 0.58\n"
     ]
    }
   ],
   "source": [
    "# Analysis of Variance (ANOVA)\n",
    "stat, p = stats.f_oneway(data1, data2)\n",
    "print('stat = %.2f, p = %.2f' % (stat, p))"
   ]
  },
  {
   "cell_type": "code",
   "execution_count": 10,
   "metadata": {},
   "outputs": [
    {
     "name": "stdout",
     "output_type": "stream",
     "text": [
      "stat = 0.16, p = 0.85\n"
     ]
    }
   ],
   "source": [
    "stat, p = stats.f_oneway(data1, data2, data3)\n",
    "print('stat = %.2f, p = %.2f' % (stat, p))"
   ]
  },
  {
   "cell_type": "code",
   "execution_count": 11,
   "metadata": {},
   "outputs": [
    {
     "name": "stdout",
     "output_type": "stream",
     "text": [
      "stat = 1.00, p = 0.61\n"
     ]
    }
   ],
   "source": [
    "# Friedman Test\n",
    "stat, p = stats.friedmanchisquare(data1, data2, data3)\n",
    "print('stat = %.2f, p = %.2f' % (stat, p))"
   ]
  },
  {
   "cell_type": "markdown",
   "metadata": {},
   "source": [
    "#### Chi-Squared Test"
   ]
  },
  {
   "cell_type": "code",
   "execution_count": 12,
   "metadata": {},
   "outputs": [
    {
     "name": "stdout",
     "output_type": "stream",
     "text": [
      "stat = 28.64, p = 0.01\n"
     ]
    }
   ],
   "source": [
    "stat, p, dof, expected = stats.chi2_contingency([data1, data2, data3])\n",
    "print('stat = %.2f, p = %.2f' % (stat, p))"
   ]
  },
  {
   "cell_type": "code",
   "execution_count": 13,
   "metadata": {},
   "outputs": [
    {
     "name": "stdout",
     "output_type": "stream",
     "text": [
      "stat = 13.92, p = 0.05\n"
     ]
    }
   ],
   "source": [
    "stat, p, dof, expected = stats.chi2_contingency([data1, data2])\n",
    "print('stat = %.2f, p = %.2f' % (stat, p))"
   ]
  },
  {
   "cell_type": "markdown",
   "metadata": {},
   "source": [
    "#### significance level, also denoted as alpha or α\n",
    "It defines how strongly the evidence must contradict the null hypothesis"
   ]
  },
  {
   "cell_type": "code",
   "execution_count": 15,
   "metadata": {},
   "outputs": [
    {
     "name": "stdout",
     "output_type": "stream",
     "text": [
      "signifies value greater than 5%\n"
     ]
    }
   ],
   "source": [
    "# it can be used with above mentioned all codes one by one\n",
    "if p > 0.05:\n",
    "\tprint('signifies value greater than 5%')\n",
    "else:\n",
    "\tprint('signifies value smaller than 5%')"
   ]
  }
 ],
 "metadata": {
  "kernelspec": {
   "display_name": "Python 3",
   "language": "python",
   "name": "python3"
  },
  "language_info": {
   "codemirror_mode": {
    "name": "ipython",
    "version": 3
   },
   "file_extension": ".py",
   "mimetype": "text/x-python",
   "name": "python",
   "nbconvert_exporter": "python",
   "pygments_lexer": "ipython3",
   "version": "3.8.3"
  }
 },
 "nbformat": 4,
 "nbformat_minor": 4
}
