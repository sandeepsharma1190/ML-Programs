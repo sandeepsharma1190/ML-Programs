{
 "cells": [
  {
   "cell_type": "markdown",
   "metadata": {},
   "source": [
    "# Data Preprocessing Assignment"
   ]
  },
  {
   "cell_type": "markdown",
   "metadata": {},
   "source": [
    "#### NASA has reached out to you and asked for some assistance in trying to determine what features of an [exoplanet](https://en.wikipedia.org/wiki/Exoplanet#:~:text=An%20exoplanet%20or%20extrasolar%20planet,of%20detection%20occurred%20in%201992) have the largest impact on predicting the [stellar magnitude](https://earthsky.org/astronomy-essentials/what-is-stellar-magnitude) of the celestial body. But, before you can get down to the machine learning you'll first need to make the data usable! "
   ]
  },
  {
   "cell_type": "markdown",
   "metadata": {},
   "source": [
    "First you'll need to load the necessary modules and libraries. The ones loaded here should be everything you'll need."
   ]
  },
  {
   "cell_type": "code",
   "execution_count": null,
   "metadata": {},
   "outputs": [],
   "source": [
    "!pip install category_encoders"
   ]
  },
  {
   "cell_type": "code",
   "execution_count": 1,
   "metadata": {},
   "outputs": [],
   "source": [
    "%matplotlib inline\n",
    "\n",
    "import pandas as pd\n",
    "import numpy as np\n",
    "\n",
    "import seaborn as sns\n",
    "import matplotlib.pyplot as plt\n",
    "\n",
    "from sklearn.preprocessing import MinMaxScaler\n",
    "\n",
    "from category_encoders.leave_one_out import LeaveOneOutEncoder"
   ]
  },
  {
   "cell_type": "markdown",
   "metadata": {},
   "source": [
    "Then you'll need to load the dataset into a Pandas dataframe"
   ]
  },
  {
   "cell_type": "code",
   "execution_count": 2,
   "metadata": {},
   "outputs": [],
   "source": [
    "df = pd.read_csv('nasa_exoplanets.csv')"
   ]
  },
  {
   "cell_type": "markdown",
   "metadata": {},
   "source": [
    "Let's see what the data looks like"
   ]
  },
  {
   "cell_type": "code",
   "execution_count": 3,
   "metadata": {},
   "outputs": [
    {
     "data": {
      "text/html": [
       "<div>\n",
       "<style scoped>\n",
       "    .dataframe tbody tr th:only-of-type {\n",
       "        vertical-align: middle;\n",
       "    }\n",
       "\n",
       "    .dataframe tbody tr th {\n",
       "        vertical-align: top;\n",
       "    }\n",
       "\n",
       "    .dataframe thead th {\n",
       "        text-align: right;\n",
       "    }\n",
       "</style>\n",
       "<table border=\"1\" class=\"dataframe\">\n",
       "  <thead>\n",
       "    <tr style=\"text-align: right;\">\n",
       "      <th></th>\n",
       "      <th>name</th>\n",
       "      <th>light_years_from_earth</th>\n",
       "      <th>planet_mass</th>\n",
       "      <th>stellar_magnitude</th>\n",
       "      <th>discovery_date</th>\n",
       "      <th>planet_type</th>\n",
       "      <th>planet_radius</th>\n",
       "      <th>orbital_radius</th>\n",
       "      <th>orbital_period</th>\n",
       "      <th>eccentricity</th>\n",
       "      <th>solar_system_name</th>\n",
       "      <th>planet_discovery_method</th>\n",
       "      <th>planet_orbital_inclination</th>\n",
       "      <th>planet_density</th>\n",
       "      <th>right_ascension</th>\n",
       "      <th>declination</th>\n",
       "      <th>host_temperature</th>\n",
       "      <th>host_mass</th>\n",
       "      <th>host_radius</th>\n",
       "    </tr>\n",
       "  </thead>\n",
       "  <tbody>\n",
       "    <tr>\n",
       "      <th>0</th>\n",
       "      <td>11 Comae Berenices b</td>\n",
       "      <td>305.0</td>\n",
       "      <td>19.4 Jupiters</td>\n",
       "      <td>4.740</td>\n",
       "      <td>2007</td>\n",
       "      <td>Gas Giant</td>\n",
       "      <td>1.08 x Jupiter</td>\n",
       "      <td>1.29 AU</td>\n",
       "      <td>326 days</td>\n",
       "      <td>0.23</td>\n",
       "      <td>11 Com</td>\n",
       "      <td>Radial Velocity</td>\n",
       "      <td>NaN</td>\n",
       "      <td>NaN</td>\n",
       "      <td>12h20m43.03s</td>\n",
       "      <td>+17d47m34.3s</td>\n",
       "      <td>4742.0</td>\n",
       "      <td>2.70</td>\n",
       "      <td>19.00</td>\n",
       "    </tr>\n",
       "    <tr>\n",
       "      <th>1</th>\n",
       "      <td>11 Ursae Minoris b</td>\n",
       "      <td>410.0</td>\n",
       "      <td>14.74 Jupiters</td>\n",
       "      <td>5.016</td>\n",
       "      <td>2009</td>\n",
       "      <td>Gas Giant</td>\n",
       "      <td>1.09 x Jupiter</td>\n",
       "      <td>1.53 AU</td>\n",
       "      <td>1.4 years</td>\n",
       "      <td>0.08</td>\n",
       "      <td>11 UMi</td>\n",
       "      <td>Radial Velocity</td>\n",
       "      <td>NaN</td>\n",
       "      <td>NaN</td>\n",
       "      <td>15h17m05.89s</td>\n",
       "      <td>+71d49m26.0s</td>\n",
       "      <td>4213.0</td>\n",
       "      <td>2.78</td>\n",
       "      <td>29.79</td>\n",
       "    </tr>\n",
       "    <tr>\n",
       "      <th>2</th>\n",
       "      <td>14 Andromedae b</td>\n",
       "      <td>247.0</td>\n",
       "      <td>4.8 Jupiters</td>\n",
       "      <td>5.227</td>\n",
       "      <td>2008</td>\n",
       "      <td>Gas Giant</td>\n",
       "      <td>1.15 x Jupiter</td>\n",
       "      <td>0.83 AU</td>\n",
       "      <td>185.8 days</td>\n",
       "      <td>0</td>\n",
       "      <td>14 And</td>\n",
       "      <td>Radial Velocity</td>\n",
       "      <td>NaN</td>\n",
       "      <td>NaN</td>\n",
       "      <td>23h31m17.42s</td>\n",
       "      <td>+39d14m10.3s</td>\n",
       "      <td>4813.0</td>\n",
       "      <td>2.20</td>\n",
       "      <td>11.00</td>\n",
       "    </tr>\n",
       "    <tr>\n",
       "      <th>3</th>\n",
       "      <td>14 Herculis b</td>\n",
       "      <td>59.0</td>\n",
       "      <td>4.66 Jupiters</td>\n",
       "      <td>6.610</td>\n",
       "      <td>2002</td>\n",
       "      <td>Gas Giant</td>\n",
       "      <td>1.15 x Jupiter</td>\n",
       "      <td>2.93 AU</td>\n",
       "      <td>4.9 years</td>\n",
       "      <td>0.37</td>\n",
       "      <td>14 Her</td>\n",
       "      <td>Radial Velocity</td>\n",
       "      <td>NaN</td>\n",
       "      <td>NaN</td>\n",
       "      <td>16h10m24.31s</td>\n",
       "      <td>+43d49m03.5s</td>\n",
       "      <td>5338.0</td>\n",
       "      <td>0.90</td>\n",
       "      <td>0.93</td>\n",
       "    </tr>\n",
       "    <tr>\n",
       "      <th>4</th>\n",
       "      <td>16 Cygni B b</td>\n",
       "      <td>69.0</td>\n",
       "      <td>1.78 Jupiters</td>\n",
       "      <td>6.250</td>\n",
       "      <td>1996</td>\n",
       "      <td>Gas Giant</td>\n",
       "      <td>1.2 x Jupiter</td>\n",
       "      <td>1.66 AU</td>\n",
       "      <td>2.2 years</td>\n",
       "      <td>0.68</td>\n",
       "      <td>16 Cyg B</td>\n",
       "      <td>Radial Velocity</td>\n",
       "      <td>NaN</td>\n",
       "      <td>NaN</td>\n",
       "      <td>19h41m51.97s</td>\n",
       "      <td>+50d31m03.1s</td>\n",
       "      <td>5750.0</td>\n",
       "      <td>1.08</td>\n",
       "      <td>1.13</td>\n",
       "    </tr>\n",
       "  </tbody>\n",
       "</table>\n",
       "</div>"
      ],
      "text/plain": [
       "                   name  light_years_from_earth     planet_mass  \\\n",
       "0  11 Comae Berenices b                   305.0   19.4 Jupiters   \n",
       "1    11 Ursae Minoris b                   410.0  14.74 Jupiters   \n",
       "2       14 Andromedae b                   247.0    4.8 Jupiters   \n",
       "3         14 Herculis b                    59.0   4.66 Jupiters   \n",
       "4          16 Cygni B b                    69.0   1.78 Jupiters   \n",
       "\n",
       "   stellar_magnitude  discovery_date planet_type   planet_radius  \\\n",
       "0              4.740            2007   Gas Giant  1.08 x Jupiter   \n",
       "1              5.016            2009   Gas Giant  1.09 x Jupiter   \n",
       "2              5.227            2008   Gas Giant  1.15 x Jupiter   \n",
       "3              6.610            2002   Gas Giant  1.15 x Jupiter   \n",
       "4              6.250            1996   Gas Giant   1.2 x Jupiter   \n",
       "\n",
       "  orbital_radius orbital_period eccentricity solar_system_name  \\\n",
       "0        1.29 AU       326 days         0.23            11 Com   \n",
       "1        1.53 AU      1.4 years         0.08            11 UMi   \n",
       "2        0.83 AU     185.8 days            0            14 And   \n",
       "3        2.93 AU      4.9 years         0.37            14 Her   \n",
       "4        1.66 AU      2.2 years         0.68          16 Cyg B   \n",
       "\n",
       "  planet_discovery_method  planet_orbital_inclination  planet_density  \\\n",
       "0         Radial Velocity                         NaN             NaN   \n",
       "1         Radial Velocity                         NaN             NaN   \n",
       "2         Radial Velocity                         NaN             NaN   \n",
       "3         Radial Velocity                         NaN             NaN   \n",
       "4         Radial Velocity                         NaN             NaN   \n",
       "\n",
       "  right_ascension   declination  host_temperature  host_mass  host_radius  \n",
       "0    12h20m43.03s  +17d47m34.3s            4742.0       2.70        19.00  \n",
       "1    15h17m05.89s  +71d49m26.0s            4213.0       2.78        29.79  \n",
       "2    23h31m17.42s  +39d14m10.3s            4813.0       2.20        11.00  \n",
       "3    16h10m24.31s  +43d49m03.5s            5338.0       0.90         0.93  \n",
       "4    19h41m51.97s  +50d31m03.1s            5750.0       1.08         1.13  "
      ]
     },
     "execution_count": 3,
     "metadata": {},
     "output_type": "execute_result"
    }
   ],
   "source": [
    "df.head()"
   ]
  },
  {
   "cell_type": "markdown",
   "metadata": {},
   "source": [
    "One of the NASA scientists on the project thinks that the host star radius might have something to do with how large of planets could form around it. But looking at the graph below you can see there might be an issue with using it in an ML model. "
   ]
  },
  {
   "cell_type": "code",
   "execution_count": null,
   "metadata": {},
   "outputs": [],
   "source": []
  },
  {
   "cell_type": "code",
   "execution_count": null,
   "metadata": {
    "scrolled": true
   },
   "outputs": [],
   "source": [
    "fig, ax = plt.subplots(1)\n",
    "sns.distplot(df['host_radius'])"
   ]
  },
  {
   "cell_type": "markdown",
   "metadata": {},
   "source": [
    "What sort of preprocessing could you use to fix the data issue?"
   ]
  },
  {
   "cell_type": "code",
   "execution_count": null,
   "metadata": {},
   "outputs": [],
   "source": [
    "df['host_radius_fixed'] = df['host_radius'].fillna(value = df['host_radius'].mean())"
   ]
  },
  {
   "cell_type": "code",
   "execution_count": null,
   "metadata": {},
   "outputs": [],
   "source": [
    "fig, ax = plt.subplots(1)\n",
    "sns.distplot(df['host_radius_fixed'])"
   ]
  },
  {
   "cell_type": "markdown",
   "metadata": {},
   "source": [
    "Now that you've fixed the first issue with the data, what do you notice? Could there potentially be a problem with the range of the data? And if there is how do you process it to be more useful?"
   ]
  },
  {
   "cell_type": "code",
   "execution_count": null,
   "metadata": {},
   "outputs": [],
   "source": [
    "#Instantiate some object here that would be useful\n",
    "scaler = MinMaxScaler()"
   ]
  },
  {
   "cell_type": "code",
   "execution_count": null,
   "metadata": {},
   "outputs": [],
   "source": [
    "df['host_radius_fixed']  = scaler.fit_transform(df['host_radius_fixed'].values.reshape(-1, 1))"
   ]
  },
  {
   "cell_type": "code",
   "execution_count": null,
   "metadata": {},
   "outputs": [],
   "source": [
    "fig, ax = plt.subplots()\n",
    "sns.distplot(df['host_radius_fixed'])"
   ]
  },
  {
   "cell_type": "markdown",
   "metadata": {},
   "source": [
    "Another scientist has posited that the TYPE of the planet could have a large impact on its stellar magnitude. But the data has been saved as a string variabled and ML models can only take numeric data. What should you do? Hint: planet_type is considered to have *LOW CARDINALITY* for this exercise. "
   ]
  },
  {
   "cell_type": "code",
   "execution_count": null,
   "metadata": {},
   "outputs": [],
   "source": [
    "df['planet_type'].value_counts()"
   ]
  },
  {
   "cell_type": "code",
   "execution_count": null,
   "metadata": {},
   "outputs": [],
   "source": [
    "df = pd.get_dummies(df, columns=['planet_type'])"
   ]
  },
  {
   "cell_type": "code",
   "execution_count": null,
   "metadata": {},
   "outputs": [],
   "source": [
    "df.head()"
   ]
  },
  {
   "cell_type": "markdown",
   "metadata": {},
   "source": [
    "Let's see what the data looks like now that you've transformed the planet_type to something a model can ingest."
   ]
  },
  {
   "cell_type": "markdown",
   "metadata": {},
   "source": [
    "Another scientist believes that HOW a planet was discovered could give some clues into the stellar magnitude. Perhaps only really bright planets can be identified using a specific method? But again the variable was saved as in a string format. What method could you use to make it numeric? Hint: For the purposes of this exercise, planet_discovery_method is being treated as *HIGH CARDINALITY*."
   ]
  },
  {
   "cell_type": "code",
   "execution_count": null,
   "metadata": {},
   "outputs": [],
   "source": [
    "df.columns"
   ]
  },
  {
   "cell_type": "code",
   "execution_count": null,
   "metadata": {},
   "outputs": [],
   "source": [
    "#Instatiate some object here that would be useful\n",
    "loo = LeaveOneOutEncoder()"
   ]
  },
  {
   "cell_type": "code",
   "execution_count": null,
   "metadata": {},
   "outputs": [],
   "source": [
    "df['planet_discovery_method_transformed'] = loo.fit_transform(df['planet_discovery_method'], df['stellar_magnitude'])"
   ]
  },
  {
   "cell_type": "code",
   "execution_count": null,
   "metadata": {},
   "outputs": [],
   "source": [
    "df.head()"
   ]
  },
  {
   "cell_type": "markdown",
   "metadata": {},
   "source": [
    "Let's check to make sure it worked"
   ]
  },
  {
   "cell_type": "code",
   "execution_count": null,
   "metadata": {},
   "outputs": [],
   "source": [
    "df[['planet_discovery_method', 'planet_discovery_method_transformed']].head(20)"
   ]
  },
  {
   "cell_type": "markdown",
   "metadata": {},
   "source": [
    "#### With that we're ready to start our machine learning process! Now we just need to wait for the grant money to come in..."
   ]
  },
  {
   "cell_type": "code",
   "execution_count": null,
   "metadata": {},
   "outputs": [],
   "source": []
  }
 ],
 "metadata": {
  "kernelspec": {
   "display_name": "Python 3",
   "language": "python",
   "name": "python3"
  },
  "language_info": {
   "codemirror_mode": {
    "name": "ipython",
    "version": 3
   },
   "file_extension": ".py",
   "mimetype": "text/x-python",
   "name": "python",
   "nbconvert_exporter": "python",
   "pygments_lexer": "ipython3",
   "version": "3.8.3"
  }
 },
 "nbformat": 4,
 "nbformat_minor": 4
}
